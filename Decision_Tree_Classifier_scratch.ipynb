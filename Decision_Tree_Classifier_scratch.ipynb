{
  "nbformat": 4,
  "nbformat_minor": 0,
  "metadata": {
    "colab": {
      "name": "Decision-Tree-Classifier-scratch.ipynb",
      "provenance": [],
      "collapsed_sections": []
    },
    "kernelspec": {
      "name": "python3",
      "display_name": "Python 3"
    },
    "language_info": {
      "name": "python"
    }
  },
  "cells": [
    {
      "cell_type": "code",
      "metadata": {
        "id": "hNk91kN0LaQB"
      },
      "source": [
        "from sklearn.datasets import load_iris"
      ],
      "execution_count": null,
      "outputs": []
    },
    {
      "cell_type": "code",
      "metadata": {
        "id": "Vv5XBgxOQl0Z"
      },
      "source": [
        "import numpy as np\n",
        "import pandas as pd"
      ],
      "execution_count": null,
      "outputs": []
    },
    {
      "cell_type": "code",
      "metadata": {
        "colab": {
          "base_uri": "https://localhost:8080/",
          "height": 204
        },
        "id": "VWI1yOr2bEeB",
        "outputId": "41f53218-30ac-443b-e462-a9d9f906c08b"
      },
      "source": [
        "col = ['sepal_length','sepal_width','petal_length','petal_width']\n",
        "df = pd.DataFrame(load_iris().data, columns=col)\n",
        "df['type'] = 0\n",
        "df.iloc[0:50,-1] = 0\n",
        "df.iloc[50:100,-1] = 1\n",
        "df.iloc[100:150,-1] = 2\n",
        "df.head(5)"
      ],
      "execution_count": null,
      "outputs": [
        {
          "output_type": "execute_result",
          "data": {
            "text/html": [
              "<div>\n",
              "<style scoped>\n",
              "    .dataframe tbody tr th:only-of-type {\n",
              "        vertical-align: middle;\n",
              "    }\n",
              "\n",
              "    .dataframe tbody tr th {\n",
              "        vertical-align: top;\n",
              "    }\n",
              "\n",
              "    .dataframe thead th {\n",
              "        text-align: right;\n",
              "    }\n",
              "</style>\n",
              "<table border=\"1\" class=\"dataframe\">\n",
              "  <thead>\n",
              "    <tr style=\"text-align: right;\">\n",
              "      <th></th>\n",
              "      <th>sepal_length</th>\n",
              "      <th>sepal_width</th>\n",
              "      <th>petal_length</th>\n",
              "      <th>petal_width</th>\n",
              "      <th>type</th>\n",
              "    </tr>\n",
              "  </thead>\n",
              "  <tbody>\n",
              "    <tr>\n",
              "      <th>0</th>\n",
              "      <td>5.1</td>\n",
              "      <td>3.5</td>\n",
              "      <td>1.4</td>\n",
              "      <td>0.2</td>\n",
              "      <td>0</td>\n",
              "    </tr>\n",
              "    <tr>\n",
              "      <th>1</th>\n",
              "      <td>4.9</td>\n",
              "      <td>3.0</td>\n",
              "      <td>1.4</td>\n",
              "      <td>0.2</td>\n",
              "      <td>0</td>\n",
              "    </tr>\n",
              "    <tr>\n",
              "      <th>2</th>\n",
              "      <td>4.7</td>\n",
              "      <td>3.2</td>\n",
              "      <td>1.3</td>\n",
              "      <td>0.2</td>\n",
              "      <td>0</td>\n",
              "    </tr>\n",
              "    <tr>\n",
              "      <th>3</th>\n",
              "      <td>4.6</td>\n",
              "      <td>3.1</td>\n",
              "      <td>1.5</td>\n",
              "      <td>0.2</td>\n",
              "      <td>0</td>\n",
              "    </tr>\n",
              "    <tr>\n",
              "      <th>4</th>\n",
              "      <td>5.0</td>\n",
              "      <td>3.6</td>\n",
              "      <td>1.4</td>\n",
              "      <td>0.2</td>\n",
              "      <td>0</td>\n",
              "    </tr>\n",
              "  </tbody>\n",
              "</table>\n",
              "</div>"
            ],
            "text/plain": [
              "   sepal_length  sepal_width  petal_length  petal_width  type\n",
              "0           5.1          3.5           1.4          0.2     0\n",
              "1           4.9          3.0           1.4          0.2     0\n",
              "2           4.7          3.2           1.3          0.2     0\n",
              "3           4.6          3.1           1.5          0.2     0\n",
              "4           5.0          3.6           1.4          0.2     0"
            ]
          },
          "metadata": {
            "tags": []
          },
          "execution_count": 61
        }
      ]
    },
    {
      "cell_type": "code",
      "metadata": {
        "id": "SXvdvjhNc1Ra"
      },
      "source": [
        "# Node class \n",
        "class Node():\n",
        "  def __init__(self, feature_index=None, threshold=None, left=None, \n",
        "               right=None, information_gain=None, value=None):\n",
        "    ''' this is constructor function for creating tree nodes'''\n",
        "    # feature_index = based on which feature(column value) of the dataset we spliting\n",
        "    self.feature_index= feature_index \n",
        "    self.threshold= threshold # threshold = based which feature value we are spliting \n",
        "    self.left= left\n",
        "    self.right= right\n",
        "    self.information_gain= information_gain\n",
        "\n",
        "    self.value = value # for leaf node\n"
      ],
      "execution_count": null,
      "outputs": []
    },
    {
      "cell_type": "code",
      "metadata": {
        "id": "xiJ7lrwsnCsa"
      },
      "source": [
        "# Decision tree calssifier class\n",
        "class DTClassifier():\n",
        "  def __init__(self, min_sample=2, max_depth=2):\n",
        "    self.root = None\n",
        "\n",
        "    self.min_sample = min_sample\n",
        "    self.max_depth = max_depth\n",
        "  \n",
        "  \n",
        "  \n",
        "  def tree_builder(self, dataset, current_depth=0):\n",
        "    #we storing dataset's rows and columns (except 'type' column) in x\n",
        "    x = dataset[:,:-1]\n",
        "    y = dataset[:,-1]\n",
        "    #np.shape gives values like - (samples, features)\n",
        "    samples, features = np.shape(x)\n",
        "\n",
        "    # according to the minnimum and maximum condition we are spliting \n",
        "    if samples >= self.min_sample and current_depth<=self.max_depth:\n",
        "\n",
        "      best_split = self.create_best_split(dataset, samples, features)\n",
        "      '''check if this node is leaf node or-not by information gain because \n",
        "      for the leaf node information gain is zero.'''\n",
        "      if best_split['information_gain']>0:\n",
        "        # here we recursively creating tree, firstly left subtree and then right subtree\n",
        "        left_stree = self.tree_builder(best_split[\"left\"], current_depth+1)\n",
        "        right_stree = self.tree_builder(best_split[\"right\"], current_depth+1)\n",
        "\n",
        "        # here based on our split we createing node by passing value in Node class.\n",
        "        return Node(best_split['feature_index'], best_split['threshold'], left_stree, \n",
        "                    right_stree ,best_split['information_gain'])\n",
        "\n",
        "    #here we are creating leaf node.\n",
        "    leaf_value = self.get_leaf_value(y)\n",
        "    return Node(value = leaf_value)\n",
        "  \n",
        "  def create_best_split(self, dataset, samples, features):\n",
        "\n",
        "    # creating dictoinary for storing best split and then return it at last \n",
        "    best_split = {}\n",
        "    #set information gain to negetive infinity\n",
        "    max_information_gain = -float(\"inf\")\n",
        "\n",
        "    for feature in range(features):\n",
        "      # here feature = simple index of column like(for example (0)-'sepal-length')\n",
        "      feature_values = dataset[:, feature]\n",
        "      #p_threshold = possible_threshold - (unique values of rows according to feature)  \n",
        "      p_thresholds = np.unique(feature_values)\n",
        "\n",
        "      for threshold in p_thresholds:\n",
        "        #for this threshold value we are spliting feature_values in left and right \n",
        "        dataset_left = np.array([row for row in dataset if row[feature]<=threshold])\n",
        "        dataset_right = np.array([row for row in dataset if row[feature]>threshold])\n",
        "\n",
        "        if len(dataset_left>0) and len(dataset_right>0) :\n",
        "          #storing in different variables\n",
        "          d, left_d, right_d = dataset[:, -1], dataset_left[:, -1], dataset_right[:,-1]\n",
        "          #calculate information gain\n",
        "          current_information_gain = self.calc_information_gain(d, left_d, right_d)\n",
        "\n",
        "          if current_information_gain > max_information_gain:\n",
        "            #set the best_split dictionary values\n",
        "            best_split['feature_index'] = feature\n",
        "            best_split['threshold'] = threshold\n",
        "            best_split['left'] = dataset_left\n",
        "            best_split['right'] = dataset_right\n",
        "            best_split['information_gain'] = current_information_gain\n",
        "            max_information_gain = current_information_gain\n",
        "      \n",
        "    return best_split\n",
        "  \n",
        "  #function for calculating informatin gain\n",
        "  def calc_information_gain(self, parent, left_child, right_child):\n",
        "    #calculating weights for left and right child\n",
        "    w_left_child = len(left_child)/len(parent)\n",
        "    w_right_child =  len(right_child)/len(parent)\n",
        "    # information gain = gini(parent) - (sum of all -- weight*gini(child))\n",
        "    info_gain = self.calc_gini_index(parent)-(w_left_child*self.calc_gini_index(left_child) + \n",
        "                                              w_right_child*self.calc_gini_index(right_child))\n",
        "\n",
        "    return info_gain\n",
        "\n",
        "  #function for calculating gini index\n",
        "  def calc_gini_index(self, Y):\n",
        "    lables = np.unique(Y)\n",
        "    gini =0\n",
        "    for lable in lables:\n",
        "      #calculating the possibility of different lables \n",
        "      pi = len(Y[Y==lable])/len(Y)\n",
        "      gini += pi**2\n",
        "    return 1-gini # 1-gini because parent node has possibility of 1\n",
        "  \n",
        "  def get_leaf_value(self, Y):\n",
        "    Y = list(Y)\n",
        "    return max(Y, key=Y.count)\n",
        "\n",
        "  # here we are simply print this tree\n",
        "  def print(self, tree=None, indent=\" \"):\n",
        "    if not tree:\n",
        "      tree = self.root\n",
        "    if tree.value is not None:\n",
        "      print(tree.value)\n",
        "    else:\n",
        "      print(\"X_\"+str(tree.feature_index), \"<=\", tree.threshold, \"?\", tree.information_gain)\n",
        "      print(\"%sleft:\" % (indent), end=\"\" )\n",
        "      self.print(tree.left, indent + indent)\n",
        "      print(\"%sright:\" % (indent), end=\"\")\n",
        "      self.print(tree.right, indent + indent)\n",
        "  \n",
        "  def fit(self, x, y):\n",
        "    #here we are train the tree\n",
        "    dataset = np.concatenate((x,y), axis=1)\n",
        "    self.root =  self.tree_builder(dataset)\n",
        "\n",
        "  def predict(self, X):\n",
        "    prediction = [self.get_prediction(x, self.root) for x in X]\n",
        "    return prediction\n",
        "  \n",
        "  def get_prediction(self, x, tree):\n",
        "    if tree.value != None:\n",
        "      return tree.value\n",
        "    f_val = x[tree.feature_index]\n",
        "    if f_val<=tree.threshold:\n",
        "      return self.get_prediction(x, tree.left)\n",
        "    else:\n",
        "      return self.get_prediction(x, tree.right)\n"
      ],
      "execution_count": null,
      "outputs": []
    },
    {
      "cell_type": "code",
      "metadata": {
        "id": "SF8yIKmMXy_U"
      },
      "source": [
        "X = df.iloc[:, :-1].values\n",
        "Y = df.iloc[:, -1].values.reshape(-1,1)\n",
        "from sklearn.model_selection import train_test_split\n",
        "X_train, X_test, Y_train, Y_test = train_test_split(X, Y, test_size=.2, random_state=31) "
      ],
      "execution_count": null,
      "outputs": []
    },
    {
      "cell_type": "code",
      "metadata": {
        "colab": {
          "base_uri": "https://localhost:8080/"
        },
        "id": "90AoZuSgZI7U",
        "outputId": "2f5d9071-9bf7-474f-aa54-a5253be3b47a"
      },
      "source": [
        "classifier =  DTClassifier(min_sample=3, max_depth=3)\n",
        "classifier.fit(X_train, Y_train)\n",
        "classifier.print()"
      ],
      "execution_count": null,
      "outputs": [
        {
          "output_type": "stream",
          "text": [
            "X_2 <= 1.9 ? 0.3413247863247863\n",
            " left:0.0\n",
            " right:X_2 <= 4.8 ? 0.4023703242326723\n",
            "  left:X_3 <= 1.6 ? 0.06463527239150524\n",
            "    left:1.0\n",
            "    right:X_1 <= 2.8 ? 0.4444444444444444\n",
            "        left:2.0\n",
            "        right:1.0\n",
            "  right:X_3 <= 1.7 ? 0.03500000000000009\n",
            "    left:X_0 <= 6.3 ? 0.21333333333333332\n",
            "        left:2.0\n",
            "        right:1.0\n",
            "    right:2.0\n"
          ],
          "name": "stdout"
        }
      ]
    },
    {
      "cell_type": "code",
      "metadata": {
        "colab": {
          "base_uri": "https://localhost:8080/"
        },
        "id": "QvtsMSP2ZxC2",
        "outputId": "d15ea15f-f7e0-4255-e27c-fdceea3b3876"
      },
      "source": [
        "Y_pred = classifier.predict(X_test) \n",
        "from sklearn.metrics import accuracy_score\n",
        "accuracy_score(Y_test, Y_pred)"
      ],
      "execution_count": null,
      "outputs": [
        {
          "output_type": "execute_result",
          "data": {
            "text/plain": [
              "0.9"
            ]
          },
          "metadata": {
            "tags": []
          },
          "execution_count": 72
        }
      ]
    }
  ]
}